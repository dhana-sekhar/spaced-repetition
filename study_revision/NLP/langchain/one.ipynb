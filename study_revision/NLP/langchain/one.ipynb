{
 "cells": [
  {
   "cell_type": "code",
   "execution_count": 20,
   "metadata": {},
   "outputs": [
    {
     "data": {
      "text/plain": [
       "True"
      ]
     },
     "execution_count": 20,
     "metadata": {},
     "output_type": "execute_result"
    }
   ],
   "source": [
    "from langchain_core.messages import SystemMessage, HumanMessage, AIMessage\n",
    "from langchain_groq import ChatGroq\n",
    "from openai import OpenAI\n",
    "from dotenv import load_dotenv\n",
    "import os\n",
    "\n",
    "load_dotenv(override=True)"
   ]
  },
  {
   "cell_type": "code",
   "execution_count": 21,
   "metadata": {},
   "outputs": [],
   "source": [
    "def outer_func(func):\n",
    "    def inner_func(*args, **kwargs):\n",
    "        print(\"*******************************************************\")\n",
    "        display(Markdown(*args))\n",
    "        return func(*args, **kwargs)\n",
    "    return inner_func\n",
    "\n",
    "@outer_func\n",
    "def pprint(*args, **kwargs):\n",
    "    print(\"*******************************************************\")\n"
   ]
  },
  {
   "cell_type": "code",
   "execution_count": 4,
   "metadata": {},
   "outputs": [],
   "source": [
    "llm = ChatGroq(\n",
    "    model=\"llama-3.1-8b-instant\",\n",
    "    temperature=0,\n",
    "    max_tokens=None,\n",
    "    timeout=None,\n",
    "    max_retries=2\n",
    ")"
   ]
  },
  {
   "cell_type": "code",
   "execution_count": 5,
   "metadata": {},
   "outputs": [
    {
     "name": "stdout",
     "output_type": "stream",
     "text": [
      "Here's a short tip to create engaging posts on Instagram:\n",
      "\n",
      "**Use a Mix of Visuals and Captions**\n",
      "\n",
      "Combine high-quality, visually appealing images or videos with engaging captions that tell a story, ask a question, or spark a conversation. This will help capture users' attention, encourage interaction, and increase engagement on your posts.\n",
      "\n",
      "Example: Post a beautiful photo of a product with a caption like \"What's your favorite way to use this product? Share with us in the comments below!\"\n"
     ]
    }
   ],
   "source": [
    "messages = [\n",
    "    SystemMessage(\"You are an expert in social media content strategy\"), \n",
    "    HumanMessage(\"Give a short tip to create engaging posts on Instagram\"), \n",
    "]\n",
    "\n",
    "result = llm.invoke(messages)\n",
    "\n",
    "print(result.content)"
   ]
  },
  {
   "cell_type": "code",
   "execution_count": 23,
   "metadata": {},
   "outputs": [
    {
     "name": "stdout",
     "output_type": "stream",
     "text": [
      "*******************************************************\n"
     ]
    },
    {
     "data": {
      "text/markdown": [
       "Here's a short tip to create engaging posts on Instagram:\n",
       "\n",
       "**Use a Mix of Visuals and Captions**\n",
       "\n",
       "Combine high-quality, visually appealing images or videos with engaging captions that tell a story, ask a question, or spark a conversation. This will help capture users' attention, encourage interaction, and increase engagement on your posts.\n",
       "\n",
       "Example: Post a beautiful photo of a product with a caption like \"What's your favorite way to use this product? Share with us in the comments below!\""
      ],
      "text/plain": [
       "<IPython.core.display.Markdown object>"
      ]
     },
     "metadata": {},
     "output_type": "display_data"
    },
    {
     "name": "stdout",
     "output_type": "stream",
     "text": [
      "*******************************************************\n"
     ]
    }
   ],
   "source": [
    "pprint(result.content)"
   ]
  },
  {
   "cell_type": "code",
   "execution_count": null,
   "metadata": {},
   "outputs": [],
   "source": []
  },
  {
   "attachments": {},
   "cell_type": "markdown",
   "metadata": {},
   "source": [
    "# Conversation History"
   ]
  },
  {
   "cell_type": "code",
   "execution_count": 26,
   "metadata": {},
   "outputs": [
    {
     "name": "stdout",
     "output_type": "stream",
     "text": [
      "*******************************************************\n"
     ]
    },
    {
     "data": {
      "text/markdown": [
       "AI: To calculate 2 squared, we multiply 2 by itself.\n",
       "\n",
       "2 squared (2²) = 2 × 2 = 4"
      ],
      "text/plain": [
       "<IPython.core.display.Markdown object>"
      ]
     },
     "metadata": {},
     "output_type": "display_data"
    },
    {
     "name": "stdout",
     "output_type": "stream",
     "text": [
      "*******************************************************\n",
      "*******************************************************\n"
     ]
    },
    {
     "data": {
      "text/markdown": [
       "AI: To calculate the squares of 2 and 4:\n",
       "\n",
       "- 2 square (2²) = 2 * 2 = 4\n",
       "- 4 square (4²) = 4 * 4 = 16"
      ],
      "text/plain": [
       "<IPython.core.display.Markdown object>"
      ]
     },
     "metadata": {},
     "output_type": "display_data"
    },
    {
     "name": "stdout",
     "output_type": "stream",
     "text": [
      "*******************************************************\n"
     ]
    }
   ],
   "source": [
    "chat_history = []\n",
    "\n",
    "system_message = SystemMessage(content=\"You are a helpful AI Assistant\")\n",
    "chat_history.append(system_message)\n",
    "\n",
    "while(True):\n",
    "    query = input(\"You: \")\n",
    "    if query.lower() == \"exit\":\n",
    "        break\n",
    "    human_message = HumanMessage(content=query)\n",
    "    chat_history.append(human_message)\n",
    "    result = llm.invoke(chat_history)\n",
    "    reponse = result.content\n",
    "    pprint(f\"AI: {reponse}\")\n",
    "\n",
    "\n"
   ]
  },
  {
   "cell_type": "code",
   "execution_count": 32,
   "metadata": {},
   "outputs": [
    {
     "name": "stdout",
     "output_type": "stream",
     "text": [
      "* Running on local URL:  http://127.0.0.1:7861\n",
      "* To create a public link, set `share=True` in `launch()`.\n"
     ]
    },
    {
     "data": {
      "text/html": [
       "<div><iframe src=\"http://127.0.0.1:7861/\" width=\"100%\" height=\"500\" allow=\"autoplay; camera; microphone; clipboard-read; clipboard-write;\" frameborder=\"0\" allowfullscreen></iframe></div>"
      ],
      "text/plain": [
       "<IPython.core.display.HTML object>"
      ]
     },
     "metadata": {},
     "output_type": "display_data"
    },
    {
     "data": {
      "text/plain": []
     },
     "execution_count": 32,
     "metadata": {},
     "output_type": "execute_result"
    }
   ],
   "source": [
    "import gradio as gr\n",
    "from langchain.schema import SystemMessage, HumanMessage\n",
    "from langchain_openai import ChatOpenAI  # or your preferred LLM\n",
    "\n",
    "# Initialize the model\n",
    "# llm = ChatOpenAI(model=\"gpt-3.5-turbo\")\n",
    "\n",
    "# Initial system prompt\n",
    "chat_history = [SystemMessage(content=\"You are a helpful AI Assistant\")]\n",
    "\n",
    "# Function to handle each user message\n",
    "def chat(user_input):\n",
    "    chat_history.append(HumanMessage(content=user_input))\n",
    "    response = llm.invoke(chat_history)\n",
    "    chat_history.append(response)\n",
    "    return response.content\n",
    "\n",
    "# Gradio interface\n",
    "gr.Interface(\n",
    "    fn=chat,\n",
    "    inputs=gr.Textbox(placeholder=\"Type something...\", lines=1),\n",
    "    outputs=\"text\",\n",
    "    title=\"Simple AI Chat\"\n",
    ").launch()\n"
   ]
  },
  {
   "cell_type": "code",
   "execution_count": null,
   "metadata": {},
   "outputs": [],
   "source": []
  }
 ],
 "metadata": {
  "kernelspec": {
   "display_name": "spaced-env",
   "language": "python",
   "name": "python3"
  },
  "language_info": {
   "codemirror_mode": {
    "name": "ipython",
    "version": 3
   },
   "file_extension": ".py",
   "mimetype": "text/x-python",
   "name": "python",
   "nbconvert_exporter": "python",
   "pygments_lexer": "ipython3",
   "version": "3.11.5"
  },
  "orig_nbformat": 4
 },
 "nbformat": 4,
 "nbformat_minor": 2
}
