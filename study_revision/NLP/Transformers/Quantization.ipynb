{
  "nbformat": 4,
  "nbformat_minor": 0,
  "metadata": {
    "colab": {
      "provenance": [],
      "gpuType": "T4"
    },
    "kernelspec": {
      "name": "python3",
      "display_name": "Python 3"
    },
    "language_info": {
      "name": "python"
    },
    "accelerator": "GPU"
  },
  "cells": [
    {
      "cell_type": "code",
      "source": [
        "!pip install -U bitsandbytes"
      ],
      "metadata": {
        "id": "r_YqLMt9YQbu"
      },
      "execution_count": null,
      "outputs": []
    },
    {
      "cell_type": "code",
      "execution_count": 2,
      "metadata": {
        "colab": {
          "base_uri": "https://localhost:8080/"
        },
        "id": "DV6NRggEYM3O",
        "outputId": "bb6a0310-a752-4f88-b2c6-43aed36a8041"
      },
      "outputs": [
        {
          "output_type": "stream",
          "name": "stderr",
          "text": [
            "/usr/local/lib/python3.10/dist-packages/huggingface_hub/utils/_token.py:89: UserWarning: \n",
            "The secret `HF_TOKEN` does not exist in your Colab secrets.\n",
            "To authenticate with the Hugging Face Hub, create a token in your settings tab (https://huggingface.co/settings/tokens), set it as secret in your Google Colab and restart your session.\n",
            "You will be able to reuse this secret in all of your notebooks.\n",
            "Please note that authentication is recommended but still optional to access public models or datasets.\n",
            "  warnings.warn(\n",
            "You are using the default legacy behaviour of the <class 'transformers.models.t5.tokenization_t5.T5Tokenizer'>. This is expected, and simply means that the `legacy` (previous) behavior will be used so nothing changes for you. If you want to use the new behaviour, set `legacy=False`. This should only be set if you understand what it means, and thoroughly read the reason why this was added as explained in https://github.com/huggingface/transformers/pull/24565\n",
            "/usr/local/lib/python3.10/dist-packages/transformers/tokenization_utils_base.py:1601: FutureWarning: `clean_up_tokenization_spaces` was not set. It will be set to `True` by default. This behavior will be depracted in transformers v4.45, and will be then set to `False` by default. For more details check this issue: https://github.com/huggingface/transformers/issues/31884\n",
            "  warnings.warn(\n"
          ]
        },
        {
          "output_type": "stream",
          "name": "stdout",
          "text": [
            "Here is the generated text : Mumbai\n",
            "The size of the model is : 0.29\n",
            "The precision for this model is : torch.float32\n"
          ]
        }
      ],
      "source": [
        "from transformers import T5Tokenizer, T5ForConditionalGeneration\n",
        "\n",
        "# Loading checkpoints and tokenizer\n",
        "checkpoint = \"google/flan-t5-small\"\n",
        "tokenizer = T5Tokenizer.from_pretrained(checkpoint)\n",
        "model = T5ForConditionalGeneration.from_pretrained(checkpoint)\n",
        "\n",
        "# Lets infrerence this model\n",
        "\n",
        "my_text = \"what is the capital of india?\"\n",
        "input_ids = tokenizer(my_text, return_tensors='pt').input_ids\n",
        "print(f\"Here is the generated text : {tokenizer.decode(model.generate(input_ids, num_beams= 2, length_penalty=0.8, max_length=100)[0], skip_special_tokens=True)}\")\n",
        "\n",
        "\n",
        "# Lets check the memory of the model\n",
        "\n",
        "print(f\"The size of the model is : {round(model.get_memory_footprint()/1024**3, 2)}\")\n",
        "print(f\"The precision for this model is : {next(model.parameters()).dtype}\")"
      ]
    },
    {
      "cell_type": "code",
      "source": [
        "# lets start Quantization\n",
        "\n",
        "# Note: GPU is required for this process\n",
        "\n",
        "from transformers import BitsAndBytesConfig\n",
        "import torch\n",
        "\n",
        "bnb_config = BitsAndBytesConfig(\n",
        "    load_in_8bit=True,\n",
        "    bnb_4bit_use_double_quant=True,\n",
        "    bnb_4bit_compute_dtype = torch.bfloat16,\n",
        "    bnb_4bit_quant_type = 'nf4'\n",
        ")\n",
        "\n",
        "q_model = T5ForConditionalGeneration.from_pretrained(checkpoint, quantization_config=bnb_config)\n",
        "\n",
        "# Lets check the memory of the model\n",
        "\n",
        "print(f\"The size of the model is : {round(q_model.get_memory_footprint()/1024**3, 2)}\")\n",
        "print(f\"The precision for this model is : {next(q_model.parameters()).dtype}\")"
      ],
      "metadata": {
        "colab": {
          "base_uri": "https://localhost:8080/"
        },
        "id": "hVbP0J-JgNw8",
        "outputId": "baef89b4-dac1-4b18-f410-d8f08e8275a5"
      },
      "execution_count": 3,
      "outputs": [
        {
          "output_type": "stream",
          "name": "stderr",
          "text": [
            "`low_cpu_mem_usage` was None, now set to True since model is quantized.\n"
          ]
        },
        {
          "output_type": "stream",
          "name": "stdout",
          "text": [
            "The size of the model is : 0.13\n",
            "The precision for this model is : torch.float16\n"
          ]
        }
      ]
    },
    {
      "cell_type": "code",
      "source": [
        "# Lets infrerence this model\n",
        "\n",
        "my_text = \"what is the capital of india?\"\n",
        "input_ids = tokenizer(my_text, return_tensors='pt').input_ids\n",
        "print(f\"Here is the generated text : {tokenizer.decode(q_model.generate(input_ids, num_beams= 2, length_penalty=0.8, max_length=100)[0], skip_special_tokens=True)}\")\n"
      ],
      "metadata": {
        "colab": {
          "base_uri": "https://localhost:8080/"
        },
        "id": "Rn2kUkP_hLtT",
        "outputId": "aacac932-9498-4ab8-cb35-e0c925420d5c"
      },
      "execution_count": 4,
      "outputs": [
        {
          "output_type": "stream",
          "name": "stderr",
          "text": [
            "/usr/local/lib/python3.10/dist-packages/transformers/generation/utils.py:1885: UserWarning: You are calling .generate() with the `input_ids` being on a device type different than your model's device. `input_ids` is on cpu, whereas the model is on cuda. You may experience unexpected behaviors or slower generation. Please make sure that you have put `input_ids` to the correct device by calling for example input_ids = input_ids.to('cuda') before running `.generate()`.\n",
            "  warnings.warn(\n"
          ]
        },
        {
          "output_type": "stream",
          "name": "stdout",
          "text": [
            "Here is the generated text : Mumbai\n"
          ]
        }
      ]
    },
    {
      "cell_type": "code",
      "source": [],
      "metadata": {
        "id": "NFxyArhsjY7Q"
      },
      "execution_count": null,
      "outputs": []
    }
  ]
}