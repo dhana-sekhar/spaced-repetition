{
  "nbformat": 4,
  "nbformat_minor": 0,
  "metadata": {
    "colab": {
      "provenance": []
    },
    "kernelspec": {
      "name": "python3",
      "display_name": "Python 3"
    },
    "language_info": {
      "name": "python"
    }
  },
  "cells": [
    {
      "cell_type": "code",
      "execution_count": null,
      "metadata": {
        "id": "cPfNHeM4qAq_"
      },
      "outputs": [],
      "source": [
        "!pip install langgraph langchain-groq typing_extensions langsmith\n"
      ]
    },
    {
      "cell_type": "code",
      "source": [
        "from typing import TypedDict, List, Union\n",
        "from langgraph.graph import START, END, StateGraph\n",
        "from langchain_groq import ChatGroq\n",
        "from langchain_core.messages import HumanMessage, AIMessage\n",
        "from google.colab import userdata\n",
        "import os\n",
        "import random"
      ],
      "metadata": {
        "id": "jLrjEVlaqOsp"
      },
      "execution_count": null,
      "outputs": []
    },
    {
      "cell_type": "code",
      "source": [],
      "metadata": {
        "id": "q-rBPhHEqawo"
      },
      "execution_count": null,
      "outputs": []
    },
    {
      "cell_type": "markdown",
      "source": [
        "# LangGraph with 3 nodes"
      ],
      "metadata": {
        "id": "Knc1pRtRqjxl"
      }
    },
    {
      "cell_type": "code",
      "source": [
        "class AgentState(TypedDict):\n",
        "  name: str\n",
        "  age: int\n",
        "  skills: list[str]\n",
        "  final_result : str\n",
        "\n",
        "def name_node(state: AgentState) -> AgentState:\n",
        "  state['final_result'] = f\"Hi your name is : {state['name']}\"\n",
        "  return state\n",
        "\n",
        "def age_node(state: AgentState) -> AgentState:\n",
        "  state['final_result'] = f\"{state['final_result']} your age is : {state['age']}\"\n",
        "  return state\n",
        "\n",
        "\n",
        "def skills_node(state: AgentState) -> AgentState:\n",
        "  state['final_result'] = f\"{state['final_result']} your skills are : {state['skills']}\"\n",
        "  return state\n",
        "\n",
        "\n",
        "graph = StateGraph(AgentState)\n",
        "graph.add_edge(START, \"name node\")\n",
        "graph.add_node(\"name node\", name_node)\n",
        "graph.add_edge(\"name node\", \"age node\")\n",
        "graph.add_node(\"age node\", age_node)\n",
        "graph.add_edge(\"age node\", \"skills node\")\n",
        "graph.add_node(\"skills node\", skills_node)\n",
        "graph.add_edge(\"skills node\", END)\n",
        "app =  graph.compile()\n",
        "\n"
      ],
      "metadata": {
        "id": "m4BNmq9mqzWl"
      },
      "execution_count": null,
      "outputs": []
    },
    {
      "cell_type": "code",
      "source": [
        "from IPython.display import Image, display\n",
        "display(Image(app.get_graph().draw_mermaid_png()))"
      ],
      "metadata": {
        "colab": {
          "base_uri": "https://localhost:8080/",
          "height": 449
        },
        "id": "wVCykgFtcKeT",
        "outputId": "8b42ac3a-bf23-46a9-ac7b-148f6671479e"
      },
      "execution_count": null,
      "outputs": [
        {
          "output_type": "display_data",
          "data": {
            "image/png": "[encoded data removed]",
            "text/plain": [
              "<IPython.core.display.Image object>"
            ]
          },
          "metadata": {}
        }
      ]
    },
    {
      "cell_type": "code",
      "source": [
        "app.invoke({\"name\": \"sekhar\", \"age\": 28, \"skills\": [\"super man\", \"bat man\"]})\n"
      ],
      "metadata": {
        "colab": {
          "base_uri": "https://localhost:8080/"
        },
        "id": "3lW_ES5EfU_Z",
        "outputId": "aed32071-8617-453f-c83c-d3147b629ff0"
      },
      "execution_count": null,
      "outputs": [
        {
          "output_type": "execute_result",
          "data": {
            "text/plain": [
              "{'name': 'sekhar',\n",
              " 'age': 28,\n",
              " 'skills': ['super man', 'bat man'],\n",
              " 'final_result': \"Hi your name is : sekhar your age is : 28 your skills are : ['super man', 'bat man']\"}"
            ]
          },
          "metadata": {},
          "execution_count": 18
        }
      ]
    },
    {
      "cell_type": "code",
      "source": [],
      "metadata": {
        "id": "MWQqu6t4gMoI"
      },
      "execution_count": null,
      "outputs": []
    },
    {
      "cell_type": "markdown",
      "source": [
        "# Conditional edge"
      ],
      "metadata": {
        "id": "D1HcTBzogV_D"
      }
    },
    {
      "cell_type": "code",
      "source": [
        "class AgentState(TypedDict):\n",
        "  question: str\n",
        "  response: str\n",
        "\n",
        "def sunny(state: AgentState) -> AgentState:\n",
        "  state['response'] = f\"{state['response']} its going to be sunny try to carry sun glass\"\n",
        "  return state\n",
        "\n",
        "def rainy(state: AgentState) -> AgentState:\n",
        "  state['response'] = f\"{state['response']} its going to rain try to carry umberrala\"\n",
        "  return state\n",
        "\n",
        "def predict_wether(state: AgentState) -> AgentState:\n",
        "  if random.random() < 0.5:\n",
        "    return \"sunny node\"\n",
        "  else:\n",
        "    return \"rainy node\"\n",
        "\n",
        "def wether(state: AgentState) -> AgentState:\n",
        "  state['response'] = f\"Hi i am not sure about it but.....\"\n",
        "  return state\n",
        "\n",
        "graph = StateGraph(AgentState)\n",
        "graph.add_node(\"sunny node\", sunny)\n",
        "graph.add_node(\"rainy node\",rainy)\n",
        "graph.add_node(\"wether node\", wether)\n",
        "graph.add_conditional_edges(\"wether node\", predict_wether,\n",
        "                            {\n",
        "                                \"sunny node\": \"sunny node\",\n",
        "                                \"rainy node\": \"rainy node\"\n",
        "                            })\n",
        "graph.add_edge(START, \"wether node\")\n",
        "graph.add_edge(\"sunny node\", END)\n",
        "graph.add_edge(\"rainy node\", END)\n",
        "app = graph.compile()\n"
      ],
      "metadata": {
        "id": "LPWLT3UGgZ-_"
      },
      "execution_count": null,
      "outputs": []
    },
    {
      "cell_type": "code",
      "source": [
        "from IPython.display import Image, display\n",
        "display(Image(app.get_graph().draw_mermaid_png()))"
      ],
      "metadata": {
        "colab": {
          "base_uri": "https://localhost:8080/",
          "height": 350
        },
        "id": "3pBdHmITnITl",
        "outputId": "4fb16e4e-fbe8-4da6-bc5c-228e8c87403b"
      },
      "execution_count": null,
      "outputs": [
        {
          "output_type": "display_data",
          "data": {
            "image/png": "[encoded data removed]",
            "text/plain": [
              "<IPython.core.display.Image object>"
            ]
          },
          "metadata": {}
        }
      ]
    },
    {
      "cell_type": "code",
      "source": [
        "app.invoke({'question': \"how is the wether like today..?\"})"
      ],
      "metadata": {
        "colab": {
          "base_uri": "https://localhost:8080/"
        },
        "id": "ypUh2pyLnI6e",
        "outputId": "429bf343-56d2-4bdd-9a93-30824c6ea41d"
      },
      "execution_count": null,
      "outputs": [
        {
          "output_type": "execute_result",
          "data": {
            "text/plain": [
              "{'question': 'how is the wether like today..?',\n",
              " 'response': 'Hi i am not sure about it but..... its going to rain try to carry umberrala'}"
            ]
          },
          "metadata": {},
          "execution_count": 41
        }
      ]
    },
    {
      "cell_type": "code",
      "source": [
        "# Lets try one more example"
      ],
      "metadata": {
        "id": "cfvs-t_loI8P"
      },
      "execution_count": null,
      "outputs": []
    },
    {
      "cell_type": "code",
      "source": [
        "class AgentState(TypedDict):\n",
        "  number1: int\n",
        "  number2: int\n",
        "  number3: int\n",
        "  number4: int\n",
        "  operator1:str\n",
        "  operator2: str\n",
        "  final_result1: str\n",
        "  final_result2: str\n",
        "\n",
        "\n",
        "def adder1(state: AgentState) -> AgentState:\n",
        "  if state['operator1'] == \"+\":\n",
        "    state['final_result1'] = state['number1']+state['number2']\n",
        "    return state\n",
        "\n",
        "def adder2(state: AgentState) -> AgentState:\n",
        "  if state['operator2'] == \"+\":\n",
        "    state['final_result2'] = state['number3']+state['number4']\n",
        "    return state\n",
        "\n",
        "def subtract1(state: AgentState) -> AgentState:\n",
        "  if state['operator1'] == \"-\":\n",
        "    state['final_result1'] = state['number1']-state['number2']\n",
        "    return state\n",
        "\n",
        "def subtract2(state: AgentState) -> AgentState:\n",
        "  if state['operator2'] == \"-\":\n",
        "    state['final_result2'] = state['number3']-state['number4']\n",
        "    return state\n",
        "\n",
        "def operator_processor1(state: AgentState) -> AgentState:\n",
        "  if state['operator1'] == \"+\":\n",
        "    return \"adder1 node\"\n",
        "  elif state['operator1'] == \"-\":\n",
        "    return \"subtract1 node\"\n",
        "\n",
        "def operator_processor2(state: AgentState) -> AgentState:\n",
        "  if state['operator2'] == \"+\":\n",
        "    return \"adder2 node\"\n",
        "  elif state['operator2'] == \"-\":\n",
        "    return \"subtract2 node\"\n",
        "\n",
        "\n",
        "graph = StateGraph(AgentState)\n",
        "graph.add_edge(START, \"router1\")\n",
        "graph.add_node(\"router1\", lambda state: state)\n",
        "graph.add_node(\"router2\", lambda state: state)\n",
        "graph.add_node(\"adder1 node\", adder1)\n",
        "graph.add_node(\"adder2 node\", adder2)\n",
        "graph.add_node(\"subtract1 node\", subtract1)\n",
        "graph.add_node(\"subtract2 node\", subtract2)\n",
        "graph.add_conditional_edges(\"router1\", operator_processor1,\n",
        "                            {\n",
        "                                'adder1 node': 'adder1 node',\n",
        "                                'subtract1 node': 'subtract1 node'\n",
        "                            })\n",
        "graph.add_edge(\"adder1 node\", \"router2\")\n",
        "graph.add_edge(\"subtract1 node\", \"router2\")\n",
        "graph.add_conditional_edges(\"router2\", operator_processor2,\n",
        "                            {\n",
        "                               \"adder2 node\": \"adder2 node\",\n",
        "                               \"subtract2 node\": \"subtract2 node\"\n",
        "                            })\n",
        "graph.add_edge(\"adder2 node\", END)\n",
        "graph.add_edge(\"subtract2 node\", END)\n",
        "\n",
        "app = graph.compile()"
      ],
      "metadata": {
        "id": "6xMPS80goj2U"
      },
      "execution_count": null,
      "outputs": []
    },
    {
      "cell_type": "code",
      "source": [
        "from IPython.display import Image, display\n",
        "display(Image(app.get_graph().draw_mermaid_png()))"
      ],
      "metadata": {
        "colab": {
          "base_uri": "https://localhost:8080/",
          "height": 548
        },
        "id": "K1Xh_quzOPd3",
        "outputId": "13882b80-9848-42be-ef64-7d211cb91a4f"
      },
      "execution_count": null,
      "outputs": [
        {
          "output_type": "display_data",
          "data": {
            "image/png": "[encoded data removed]",
            "text/plain": [
              "<IPython.core.display.Image object>"
            ]
          },
          "metadata": {}
        }
      ]
    },
    {
      "cell_type": "code",
      "source": [
        "app.invoke({'number1': 10, \"number2\": 5, \"number3\": 15, \"number4\": 5, \"operator1\": \"-\", \"operator2\": \"+\"})"
      ],
      "metadata": {
        "colab": {
          "base_uri": "https://localhost:8080/"
        },
        "id": "ntS4DU2_ORtD",
        "outputId": "92b88c6b-9f16-4030-dae8-cf390edc2744"
      },
      "execution_count": null,
      "outputs": [
        {
          "output_type": "execute_result",
          "data": {
            "text/plain": [
              "{'number1': 10,\n",
              " 'number2': 5,\n",
              " 'number3': 15,\n",
              " 'number4': 5,\n",
              " 'operator1': '-',\n",
              " 'operator2': '+',\n",
              " 'final_result1': 5,\n",
              " 'final_result2': 20}"
            ]
          },
          "metadata": {},
          "execution_count": 13
        }
      ]
    },
    {
      "cell_type": "code",
      "source": [],
      "metadata": {
        "id": "NOvDJyg_Ophu"
      },
      "execution_count": null,
      "outputs": []
    },
    {
      "cell_type": "markdown",
      "source": [
        "# Looping"
      ],
      "metadata": {
        "id": "5jELGYZ1ZUWw"
      }
    },
    {
      "cell_type": "code",
      "source": [
        "class AgentState(TypedDict):\n",
        "  name: str\n",
        "  counter: int\n",
        "  numbers: list[int]\n",
        "\n",
        "def greetings(state: AgentState) -> AgentState:\n",
        "  print(f\"Hi {state['name']} here is the loop you are looking for\")\n",
        "  state['counter'] = 0\n",
        "  return state\n",
        "\n",
        "def random_number_generator(state: AgentState) -> AgentState:\n",
        "  state['numbers'].append(random.randint(0, 10))\n",
        "  state['counter'] += 1\n",
        "  return state\n",
        "\n",
        "def should_continue(state: AgentState) -> AgentState:\n",
        "  print(f\"Entering loop {state['counter']}\")\n",
        "  if state['counter'] <5:\n",
        "    return \"loop\"\n",
        "  else:\n",
        "    return \"exit\"\n",
        "\n",
        "graph = StateGraph(AgentState)\n",
        "graph.add_node(\"greeting\", greetings)\n",
        "graph.add_node(\"random node\", random_number_generator)\n",
        "graph.add_edge(START, \"greeting\")\n",
        "graph.add_edge(\"greeting\", \"random node\")\n",
        "graph.add_conditional_edges(\"random node\", should_continue,\n",
        "                            {\n",
        "                                'loop': 'random node',\n",
        "                                'exit': END\n",
        "                            })\n",
        "app = graph.compile()\n"
      ],
      "metadata": {
        "id": "n9r5fxufZW2V"
      },
      "execution_count": null,
      "outputs": []
    },
    {
      "cell_type": "code",
      "source": [
        "from IPython.display import Image, display\n",
        "display(Image(app.get_graph().draw_mermaid_png()))"
      ],
      "metadata": {
        "colab": {
          "base_uri": "https://localhost:8080/",
          "height": 448
        },
        "id": "7sajF7_gdIcq",
        "outputId": "c80684dc-1f39-446f-a726-9997a2a460b7"
      },
      "execution_count": null,
      "outputs": [
        {
          "output_type": "display_data",
          "data": {
            "image/png": "[encoded data removed]",
            "text/plain": [
              "<IPython.core.display.Image object>"
            ]
          },
          "metadata": {}
        }
      ]
    },
    {
      "cell_type": "code",
      "source": [
        "app.invoke({\n",
        "    \"name\": \"sekhar\",\n",
        "    \"numbers\": [],\n",
        "    'counter': 10\n",
        "})"
      ],
      "metadata": {
        "colab": {
          "base_uri": "https://localhost:8080/"
        },
        "id": "OLs8c5EzdPcV",
        "outputId": "0f3430c5-7f48-424e-e4a2-fd9ab032e511"
      },
      "execution_count": null,
      "outputs": [
        {
          "output_type": "stream",
          "name": "stdout",
          "text": [
            "Hi sekhar here is the loop you are looking for\n",
            "Entering loop 1\n",
            "Entering loop 2\n",
            "Entering loop 3\n",
            "Entering loop 4\n",
            "Entering loop 5\n"
          ]
        },
        {
          "output_type": "execute_result",
          "data": {
            "text/plain": [
              "{'name': 'sekhar', 'counter': 5, 'numbers': [7, 6, 8, 9, 0]}"
            ]
          },
          "metadata": {},
          "execution_count": 69
        }
      ]
    },
    {
      "cell_type": "code",
      "source": [
        "# Another Example"
      ],
      "metadata": {
        "id": "vuAG71JtduNr"
      },
      "execution_count": null,
      "outputs": []
    },
    {
      "cell_type": "code",
      "source": [],
      "metadata": {
        "id": "5MpF-W9UsYNP"
      },
      "execution_count": null,
      "outputs": []
    },
    {
      "cell_type": "code",
      "source": [
        "class AgentState(TypedDict):\n",
        "  name: str\n",
        "  guess: list[int]\n",
        "  attempts: int\n",
        "  up_bound: int\n",
        "  lw_bound: int\n",
        "  game_number: int\n",
        "  guess_number: int\n",
        "  found: bool\n",
        "\n",
        "def setup(state: AgentState) -> AgentState:\n",
        "  print(f\"Welcome, {state['name']}! The game has begun. I'm thinking of a number between {state['lw_bound']} and {state['up_bound']}\")\n",
        "  state['game_number'] = random.randint(state['lw_bound'], state['up_bound'])\n",
        "  state['attemps'] = 0\n",
        "  state['found'] = False\n",
        "  return state\n",
        "\n",
        "def guess(state: AgentState) -> AgentState:\n",
        "  state['attempts'] += 1\n",
        "  state['guess_number'] = random.randint(state['lw_bound'], state['up_bound'])\n",
        "  print(f\"Attempt {state['attempts']}: Guessing {state['guess_number']} (Current range: {state['lw_bound']} - {state['up_bound']})\")\n",
        "  state['guess'].append(state['guess_number'])\n",
        "  return state\n",
        "\n",
        "def hint(state: AgentState) -> AgentState:\n",
        "  if state['game_number'] < state['guess_number']:\n",
        "    print(f\"Hint: The number {state['guess_number']} is too low. Try higher !\")\n",
        "    state['up_bound'] = state['guess_number']-1\n",
        "    return state\n",
        "  elif state['game_number'] > state['guess_number']:\n",
        "    print(f\"Hint: The number {state['guess_number']} is too high. Try lower !\")\n",
        "    state['lw_bound'] = state['guess_number']+1\n",
        "    print(\" \")\n",
        "    return state\n",
        "  else:\n",
        "    print(f\"Success! Correct! You found the number {state['guess_number']} == {state['game_number']} in {state['attempts']} attempts.\")\n",
        "    state['found'] = True\n",
        "    return state\n",
        "\n",
        "def hint_condition(state: AgentState) -> AgentState:\n",
        "  if not state['found']:\n",
        "    if state['attempts'] < 8:\n",
        "        print(f\"CONTINUING: {state['attempts']}/7 attempts used\")\n",
        "        print(\" \")\n",
        "        return \"guess node\"\n",
        "    else:\n",
        "      print(\"Maximux attempts reached!!!!!!!!!\")\n",
        "      print(\"Lost the game\")\n",
        "      return \"exit\"\n",
        "  else:\n",
        "    print(\"GAME OVER: Number found!!!!\")\n",
        "    return \"exit\"\n",
        "\n",
        "graph = StateGraph(AgentState)\n",
        "graph.add_node(\"setup node\", setup)\n",
        "graph.add_node(\"guess node\", guess)\n",
        "graph.add_node(\"hint node\", hint)\n",
        "graph.add_edge(START, \"setup node\")\n",
        "graph.add_edge(\"setup node\", \"guess node\")\n",
        "graph.add_edge(\"guess node\", \"hint node\")\n",
        "graph.add_conditional_edges(\"hint node\", hint_condition,\n",
        "                            {\n",
        "                                'guess node': 'guess node',\n",
        "                                'exit': END\n",
        "                            })\n",
        "app = graph.compile()\n",
        "\n",
        "\n",
        "\n",
        "\n"
      ],
      "metadata": {
        "id": "-6RCqH2YsZ8d"
      },
      "execution_count": null,
      "outputs": []
    },
    {
      "cell_type": "code",
      "source": [
        "app"
      ],
      "metadata": {
        "colab": {
          "base_uri": "https://localhost:8080/",
          "height": 473
        },
        "id": "8leJLyGE3QwO",
        "outputId": "0118bb83-b2bc-4a70-e1b4-5f44afa19e67"
      },
      "execution_count": null,
      "outputs": [
        {
          "output_type": "execute_result",
          "data": {
            "text/plain": [
              "<langgraph.graph.state.CompiledStateGraph object at 0x7b41fc644d50>"
            ],
            "image/png": "[encoded data removed]"
          },
          "metadata": {},
          "execution_count": 101
        }
      ]
    },
    {
      "cell_type": "code",
      "source": [
        "app.invoke({\n",
        "    \"name\": \"sekhar\",\n",
        "    \"guess\": [],\n",
        "    \"attempts\": 0,\n",
        "    \"up_bound\": 10,\n",
        "    \"lw_bound\": 1\n",
        "})"
      ],
      "metadata": {
        "colab": {
          "base_uri": "https://localhost:8080/"
        },
        "id": "Mk9lrezu3XT-",
        "outputId": "fb31b179-c1f5-4b04-f64a-bdd8366e75f6"
      },
      "execution_count": null,
      "outputs": [
        {
          "output_type": "stream",
          "name": "stdout",
          "text": [
            "Welcome, sekhar! The game has begun. I'm thinking of a number between 1 and 10\n",
            "Attempt 1: Guessing 2 (Current range: 1 - 10)\n",
            "Hint: The number 2 is too high. Try lower !\n",
            " \n",
            "CONTINUING: 1/7 attempts used\n",
            " \n",
            "Attempt 2: Guessing 6 (Current range: 3 - 10)\n",
            "Hint: The number 6 is too high. Try lower !\n",
            " \n",
            "CONTINUING: 2/7 attempts used\n",
            " \n",
            "Attempt 3: Guessing 10 (Current range: 7 - 10)\n",
            "Success! Correct! You found the number 10 == 10 in 3 attempts.\n",
            "GAME OVER: Number found!!!!\n"
          ]
        },
        {
          "output_type": "execute_result",
          "data": {
            "text/plain": [
              "{'name': 'sekhar',\n",
              " 'guess': [2, 6, 10],\n",
              " 'attempts': 3,\n",
              " 'up_bound': 10,\n",
              " 'lw_bound': 7,\n",
              " 'game_number': 10,\n",
              " 'guess_number': 10,\n",
              " 'found': True}"
            ]
          },
          "metadata": {},
          "execution_count": 99
        }
      ]
    },
    {
      "cell_type": "code",
      "source": [],
      "metadata": {
        "id": "jBRbyzc98p80"
      },
      "execution_count": null,
      "outputs": []
    },
    {
      "cell_type": "markdown",
      "source": [
        "# Agents"
      ],
      "metadata": {
        "id": "5sLb-Lfp_orK"
      }
    },
    {
      "cell_type": "markdown",
      "source": [
        "## Basic Agent"
      ],
      "metadata": {
        "id": "HuAWyi2uKsnz"
      }
    },
    {
      "cell_type": "code",
      "source": [
        "from langchain_groq import ChatGroq\n",
        "from langchain_core.messages import HumanMessage, AIMessage\n",
        "from google.colab import userdata\n",
        "import os\n",
        "\n",
        "os.environ['GROQ_API_KEY'] = userdata.get('GROQ_API_KEY')\n",
        "\n",
        "llm = ChatGroq(model=\"llama-3.1-8b-instant\")\n",
        "\n",
        "class AgentState(TypedDict):\n",
        "  messages: List[HumanMessage]\n",
        "\n",
        "def process_message(state: AgentState) -> AgentState:\n",
        "  response = llm.invoke(state['messages'])\n",
        "  print(response.content)\n",
        "  return state\n",
        "\n",
        "graph = StateGraph(AgentState)\n",
        "graph.add_node(\"process message\", process_message)\n",
        "graph.add_edge(START, \"process message\")\n",
        "graph.add_edge(\"process message\", END)\n",
        "\n",
        "agent = graph.compile()\n",
        "\n",
        "agent"
      ],
      "metadata": {
        "colab": {
          "base_uri": "https://localhost:8080/",
          "height": 251
        },
        "id": "RKV5jATg_sof",
        "outputId": "848f2c9b-48f3-48f6-a978-9dd7fdc15386"
      },
      "execution_count": null,
      "outputs": [
        {
          "output_type": "execute_result",
          "data": {
            "text/plain": [
              "<langgraph.graph.state.CompiledStateGraph object at 0x7b41ec7fa5d0>"
            ],
            "image/png": "[encoded data removed]"
          },
          "metadata": {},
          "execution_count": 121
        }
      ]
    },
    {
      "cell_type": "code",
      "source": [
        "user_input = input(\"Enter your message: \")\n",
        "\n",
        "while user_input != \"exit\":\n",
        "  agent.invoke({\"messages\": [HumanMessage(content=user_input)]})\n",
        "  user_input = input(\"Enter your message: \")"
      ],
      "metadata": {
        "colab": {
          "base_uri": "https://localhost:8080/"
        },
        "id": "ZUx7rVlVC3rw",
        "outputId": "59c730c9-5d74-4536-8cc1-96fba88380c4"
      },
      "execution_count": null,
      "outputs": [
        {
          "name": "stdout",
          "output_type": "stream",
          "text": [
            "Enter your message: hi\n",
            "How can I assist you today?\n",
            "Enter your message: what is your name\n",
            "I don't have a personal name. I'm an AI designed to assist and communicate with users, and I'm often referred to as a conversational AI or a chatbot. You can think of me as a helpful tool or a virtual assistant. If you'd like, you can give me a nickname or a temporary name for our conversation. What do you think?\n",
            "Enter your message: exit\n"
          ]
        }
      ]
    },
    {
      "cell_type": "code",
      "source": [
        "user_input = input(\"Enter your message: \")\n",
        "\n",
        "while user_input != \"exit\":\n",
        "  agent.invoke({\"messages\": [HumanMessage(content=user_input)]})\n",
        "  user_input = input(\"Enter your message: \")"
      ],
      "metadata": {
        "colab": {
          "base_uri": "https://localhost:8080/"
        },
        "id": "0AHY4c4kFN86",
        "outputId": "b870e09b-7873-46c1-d2b5-7f544824edb0"
      },
      "execution_count": null,
      "outputs": [
        {
          "name": "stdout",
          "output_type": "stream",
          "text": [
            "Enter your message: hi \n",
            "How can I assist you today?\n",
            "Enter your message: my name is sekhar\n",
            "Nice to meet you, Sekhar. Is there anything I can help you with today?\n",
            "Enter your message: what is my name\n",
            "I don't know your name. I'm a large language model, I don't have the ability to retain information about individual users or their identities. Each time you interact with me, it's a new conversation and I don't have any prior knowledge about you. If you'd like to share your name with me, I can try to address you by it, but it won't be remembered outside of our conversation.\n",
            "Enter your message: exit\n"
          ]
        }
      ]
    },
    {
      "cell_type": "markdown",
      "source": [
        "## Adding conversational History"
      ],
      "metadata": {
        "id": "a0WjerHeQNOQ"
      }
    },
    {
      "cell_type": "code",
      "source": [
        "class AgentState(TypedDict):\n",
        "  messages: List[Union[HumanMessage, AIMessage]]\n",
        "\n",
        "def process_message(state: AgentState) -> AgentState:\n",
        "  response = llm.invoke(state['messages'])\n",
        "  print(f\"The current state is : {state}\")\n",
        "  state['messages'].append(AIMessage(content=response.content))\n",
        "  print(f\"AI: {response.content}\")\n",
        "  return state\n",
        "\n",
        "graph = StateGraph(AgentState)\n",
        "graph.add_node(\"process message\", process_message)\n",
        "graph.add_edge(START, \"process message\")\n",
        "graph.add_edge(\"process message\", END)\n",
        "\n",
        "agent = graph.compile()\n",
        "\n",
        "agent"
      ],
      "metadata": {
        "colab": {
          "base_uri": "https://localhost:8080/",
          "height": 251
        },
        "id": "uEo0KMphQQjf",
        "outputId": "7f4aa7ab-13b3-4f20-9f40-8d7644348382"
      },
      "execution_count": null,
      "outputs": [
        {
          "output_type": "execute_result",
          "data": {
            "text/plain": [
              "<langgraph.graph.state.CompiledStateGraph object at 0x7b41fcc84d50>"
            ],
            "image/png": "[encoded data removed]"
          },
          "metadata": {},
          "execution_count": 125
        }
      ]
    },
    {
      "cell_type": "code",
      "source": [
        "user_input = input(\"Human enter your message: \")\n",
        "conversation_history = []\n",
        "\n",
        "while user_input != \"exit\":\n",
        "  conversation_history.append(HumanMessage(content=user_input))\n",
        "  result = agent.invoke({\"messages\": conversation_history})\n",
        "  conversation_history = result['messages']\n",
        "  user_input = input(\"Human enter your message: \")"
      ],
      "metadata": {
        "colab": {
          "base_uri": "https://localhost:8080/"
        },
        "id": "rW-Gxz4tXfZF",
        "outputId": "cfb320c1-e3c5-4078-e330-7b05e2766b09"
      },
      "execution_count": null,
      "outputs": [
        {
          "name": "stdout",
          "output_type": "stream",
          "text": [
            "Human enter your message: hi\n",
            "The current state is : {'messages': [HumanMessage(content='hi', additional_kwargs={}, response_metadata={})]}\n",
            "AI: How can I assist you today?\n",
            "Human enter your message: my name is sekhar\n",
            "The current state is : {'messages': [HumanMessage(content='hi', additional_kwargs={}, response_metadata={}), AIMessage(content='How can I assist you today?', additional_kwargs={}, response_metadata={}), HumanMessage(content='my name is sekhar', additional_kwargs={}, response_metadata={})]}\n",
            "AI: Nice to meet you, Sekhar. Is there something I can help you with or would you like to chat?\n",
            "Human enter your message: what is my name\n",
            "The current state is : {'messages': [HumanMessage(content='hi', additional_kwargs={}, response_metadata={}), AIMessage(content='How can I assist you today?', additional_kwargs={}, response_metadata={}), HumanMessage(content='my name is sekhar', additional_kwargs={}, response_metadata={}), AIMessage(content='Nice to meet you, Sekhar. Is there something I can help you with or would you like to chat?', additional_kwargs={}, response_metadata={}), HumanMessage(content='what is my name', additional_kwargs={}, response_metadata={})]}\n",
            "AI: Your name is Sekhar.\n",
            "Human enter your message: exit\n"
          ]
        }
      ]
    },
    {
      "cell_type": "code",
      "source": [],
      "metadata": {
        "id": "h678cLEochJ6"
      },
      "execution_count": null,
      "outputs": []
    },
    {
      "cell_type": "markdown",
      "source": [
        "# ReAct"
      ],
      "metadata": {
        "id": "ruviGnoSrY-t"
      }
    },
    {
      "cell_type": "code",
      "source": [
        "from typing import Annotated, Sequence, TypedDict\n",
        "from langchain_core.messages import BaseMessage # The foundational class for all message types in LangGraph\n",
        "from langchain_core.messages import ToolMessage # Passes data back to LLM after it calls a tool such as the content and the tool_call_id\n",
        "from langchain_core.messages import SystemMessage # Message for providing instructions to the LLM\n",
        "from langchain_core.tools import tool\n",
        "from langgraph.graph.message import add_messages\n",
        "from langgraph.graph import StateGraph, END\n",
        "from langgraph.prebuilt import ToolNode\n",
        "\n",
        "\n",
        "\n",
        "class AgentState(TypedDict):\n",
        "    messages: Annotated[Sequence[BaseMessage], add_messages]\n",
        "\n",
        "\n",
        "@tool\n",
        "def add(a: int, b:int):\n",
        "    \"\"\"This is an addition function that adds 2 numbers together\"\"\"\n",
        "\n",
        "    return a + b\n",
        "\n",
        "@tool\n",
        "def subtract(a: int, b: int):\n",
        "    \"\"\"Subtraction function\"\"\"\n",
        "    return a - b\n",
        "\n",
        "@tool\n",
        "def multiply(a: int, b: int):\n",
        "    \"\"\"Multiplication function\"\"\"\n",
        "    return a * b\n",
        "\n",
        "tools = [add, subtract, multiply]\n",
        "\n",
        "model = ChatGroq(model=\"llama-3.1-8b-instant\").bind_tools(tools)\n",
        "\n",
        "\n",
        "def model_call(state:AgentState) -> AgentState:\n",
        "    system_prompt = SystemMessage(content=\n",
        "        \"You are my AI assistant, please answer my query to the best of your ability.\"\n",
        "    )\n",
        "    response = model.invoke([system_prompt] + state[\"messages\"])\n",
        "    return {\"messages\": [response]}\n",
        "\n",
        "\n",
        "def should_continue(state: AgentState):\n",
        "    messages = state[\"messages\"]\n",
        "    last_message = messages[-1]\n",
        "    if not last_message.tool_calls:\n",
        "        return \"end\"\n",
        "    else:\n",
        "        return \"continue\"\n",
        "\n",
        "\n",
        "graph = StateGraph(AgentState)\n",
        "graph.add_node(\"our_agent\", model_call)\n",
        "\n",
        "\n",
        "tool_node = ToolNode(tools=tools)\n",
        "graph.add_node(\"tools\", tool_node)\n",
        "\n",
        "graph.set_entry_point(\"our_agent\")\n",
        "\n",
        "graph.add_conditional_edges(\n",
        "    \"our_agent\",\n",
        "    should_continue,\n",
        "    {\n",
        "        \"continue\": \"tools\",\n",
        "        \"end\": END,\n",
        "    },\n",
        ")\n",
        "\n",
        "graph.add_edge(\"tools\", \"our_agent\")\n",
        "\n",
        "app = graph.compile()\n",
        "\n",
        "app"
      ],
      "metadata": {
        "colab": {
          "base_uri": "https://localhost:8080/",
          "height": 290
        },
        "id": "ZK-m1N8OrcE8",
        "outputId": "c32b840e-dd68-4047-e7bf-9eca05150bb1"
      },
      "execution_count": 27,
      "outputs": [
        {
          "output_type": "execute_result",
          "data": {
            "text/plain": [
              "<langgraph.graph.state.CompiledStateGraph object at 0x796ea0e37bd0>"
            ],
            "image/png": "[encoded data removed]"
          },
          "metadata": {},
          "execution_count": 27
        }
      ]
    },
    {
      "cell_type": "code",
      "source": [
        "result = app.invoke({\"messages\": [(\"user\", \"Add 40 + 12 and then multiply the result by 6. Also tell me a joke please.\")]})\n",
        "for i in result['messages']:\n",
        "  i.pretty_print()"
      ],
      "metadata": {
        "colab": {
          "base_uri": "https://localhost:8080/"
        },
        "id": "GtZ-Pt05IIo5",
        "outputId": "c278a93f-0451-4c4f-821e-4f92f36c6580"
      },
      "execution_count": 53,
      "outputs": [
        {
          "output_type": "stream",
          "name": "stdout",
          "text": [
            "================================\u001b[1m Human Message \u001b[0m=================================\n",
            "\n",
            "Add 40 + 12 and then multiply the result by 6. Also tell me a joke please.\n",
            "==================================\u001b[1m Ai Message \u001b[0m==================================\n",
            "\n",
            "To solve the problem, I'll follow the steps:\n",
            "\n",
            "1. Add 40 and 12: \n",
            "40 + 12 = 52\n",
            "\n",
            "2. Multiply 52 by 6: \n",
            "52 * 6 = 312\n",
            "\n",
            "The result is 312.\n",
            "\n",
            "Here's a joke for you:\n",
            "\n",
            "Why don't scientists trust atoms?\n",
            "Because they make up everything!\n"
          ]
        }
      ]
    },
    {
      "cell_type": "code",
      "source": [],
      "metadata": {
        "id": "hoLO4MlhOoyo"
      },
      "execution_count": 48,
      "outputs": []
    },
    {
      "cell_type": "code",
      "source": [
        "from typing import Annotated, Sequence, TypedDict\n",
        "from langchain_core.messages import BaseMessage, ToolMessage, SystemMessage\n",
        "from langchain_core.tools import tool\n",
        "from langgraph.graph.message import add_messages\n",
        "from langgraph.graph import StateGraph, END\n",
        "from langgraph.prebuilt import ToolNode\n",
        "\n",
        "\n",
        "class AgentState(TypedDict):\n",
        "  messages: Annotated[Sequence[BaseMessage], add_messages]\n",
        "\n",
        "@tool\n",
        "def add(a:int, b:int) -> int:\n",
        "  \"\"\"This is a addition function and it return the addition of two numbers\"\"\"\n",
        "  return a+b\n",
        "\n",
        "@tool\n",
        "def subtract(a:int, b:int) -> int:\n",
        "  \"\"\"This is a subtract function and it return the subtraction of two numbers\"\"\"\n",
        "  return a-b\n",
        "\n",
        "@tool\n",
        "def multiply(a:int, b:int) -> int:\n",
        "  \"\"\"This is a multiply function and it return the multiply of two numbers\"\"\"\n",
        "  return a*b\n",
        "\n",
        "@tool\n",
        "def division(a:int, b:int) -> int:\n",
        "  \"\"\"This is a division function and it return the division of two numbers\"\"\"\n",
        "  return a/b\n",
        "\n",
        "tools = [add, subtract, multiply, division]\n",
        "model = ChatGroq(model=\"llama-3.1-8b-instant\").bind_tools(tools)\n",
        "\n",
        "def react_agent(state: AgentState) -> AgentState:\n",
        "  system_message = SystemMessage(content=\"You are my AI assistant, please answer my query to the best of your ability.\")\n",
        "  response = model.invoke(system_message + state['messages'])\n",
        "  return {\"messages\": response}\n",
        "\n",
        "def should_continue(state: AgentState) -> AgentState:\n",
        "  last_message = state['messages']-1\n",
        "  if not last_message.tool_calls:\n",
        "    return \"exit\"\n",
        "  else:\n",
        "    return \"continue\"\n",
        "\n",
        "graph = StateGraph(AgentState)\n",
        "graph.add_node(\"react agent\", react_agent)\n",
        "graph.add_edge(START, \"react agent\")\n",
        "\n",
        "tool_node = ToolNode(tools = tools)\n",
        "graph.add_node(\"tool node\", tool_node)\n",
        "graph.add_conditional_edges(\"react agent\", should_continue,\n",
        "                            {\n",
        "                                'continue': 'tool node',\n",
        "                                'exit': END\n",
        "                            })\n",
        "graph.add_edge(\"tool node\", \"react agent\")\n",
        "# graph.add_edge(\"react agent\", END)\n",
        "\n",
        "agent = graph.compile()\n",
        "agent\n"
      ],
      "metadata": {
        "colab": {
          "base_uri": "https://localhost:8080/",
          "height": 290
        },
        "id": "i6h6ENpvPC-C",
        "outputId": "7e363db6-9418-4de9-b297-de4e8affe177"
      },
      "execution_count": 57,
      "outputs": [
        {
          "output_type": "execute_result",
          "data": {
            "text/plain": [
              "<langgraph.graph.state.CompiledStateGraph object at 0x796e92b1abd0>"
            ],
            "image/png": "[encoded data removed]"
          },
          "metadata": {},
          "execution_count": 57
        }
      ]
    },
    {
      "cell_type": "code",
      "source": [
        "result = app.invoke({\"messages\": \"add 40 + 12 and then multiply the result by 6. Also tell me a joke please.\"})\n",
        "for i in result['messages']:\n",
        "  i.pretty_print()"
      ],
      "metadata": {
        "colab": {
          "base_uri": "https://localhost:8080/"
        },
        "id": "hNyghVlIYT0y",
        "outputId": "562c9753-f349-478c-f98e-36f4fb0297ec"
      },
      "execution_count": 58,
      "outputs": [
        {
          "output_type": "stream",
          "name": "stdout",
          "text": [
            "================================\u001b[1m Human Message \u001b[0m=================================\n",
            "\n",
            "add 40 + 12 and then multiply the result by 6. Also tell me a joke please.\n",
            "==================================\u001b[1m Ai Message \u001b[0m==================================\n",
            "Tool Calls:\n",
            "  add (call_423s)\n",
            " Call ID: call_423s\n",
            "  Args:\n",
            "    a: 40\n",
            "    b: 12\n",
            "  multiply (call_1x45)\n",
            " Call ID: call_1x45\n",
            "  Args:\n",
            "    a: 52\n",
            "    b: 6\n",
            "=================================\u001b[1m Tool Message \u001b[0m=================================\n",
            "Name: add\n",
            "\n",
            "52\n",
            "=================================\u001b[1m Tool Message \u001b[0m=================================\n",
            "Name: multiply\n",
            "\n",
            "312\n",
            "==================================\u001b[1m Ai Message \u001b[0m==================================\n",
            "\n",
            "Here's a joke:\n",
            "\n",
            "Why did the math book look so sad? Because it had too many problems.\n"
          ]
        }
      ]
    },
    {
      "cell_type": "code",
      "source": [
        "(40+12)*6"
      ],
      "metadata": {
        "colab": {
          "base_uri": "https://localhost:8080/"
        },
        "id": "DA2w6rS1Zy5_",
        "outputId": "3b070b1b-f33e-4ac1-b1b3-81ea41ec5e98"
      },
      "execution_count": 59,
      "outputs": [
        {
          "output_type": "execute_result",
          "data": {
            "text/plain": [
              "312"
            ]
          },
          "metadata": {},
          "execution_count": 59
        }
      ]
    },
    {
      "cell_type": "code",
      "source": [],
      "metadata": {
        "id": "g-ZMk4zGZ4kn"
      },
      "execution_count": null,
      "outputs": []
    }
  ]
}